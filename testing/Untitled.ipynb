{
 "cells": [
  {
   "cell_type": "code",
   "execution_count": 1,
   "metadata": {},
   "outputs": [
    {
     "name": "stderr",
     "output_type": "stream",
     "text": [
      "Using TensorFlow backend.\n"
     ]
    }
   ],
   "source": [
    "import sys\n",
    "import keras\n",
    "import midi\n",
    "import pprint"
   ]
  },
  {
   "cell_type": "code",
   "execution_count": 4,
   "metadata": {},
   "outputs": [],
   "source": [
    "mid = midi.read_midifile('data/NoQuarter.mid')"
   ]
  },
  {
   "cell_type": "code",
   "execution_count": 19,
   "metadata": {},
   "outputs": [],
   "source": [
    "types = set([])\n",
    "for timestep in mid:\n",
    "    for _ in timestep:\n",
    "        if _ not in types: types.add(type(_))"
   ]
  },
  {
   "cell_type": "code",
   "execution_count": 35,
   "metadata": {},
   "outputs": [
    {
     "data": {
      "text/plain": [
       "{midi.events.ControlChangeEvent,\n",
       " midi.events.EndOfTrackEvent,\n",
       " midi.events.KeySignatureEvent,\n",
       " midi.events.LyricsEvent,\n",
       " midi.events.NoteOnEvent,\n",
       " midi.events.PortEvent,\n",
       " midi.events.ProgramChangeEvent,\n",
       " midi.events.SetTempoEvent,\n",
       " midi.events.TimeSignatureEvent,\n",
       " midi.events.TrackNameEvent}"
      ]
     },
     "execution_count": 35,
     "metadata": {},
     "output_type": "execute_result"
    }
   ],
   "source": [
    "types"
   ]
  },
  {
   "cell_type": "code",
   "execution_count": 23,
   "metadata": {},
   "outputs": [],
   "source": [
    "events = list(mid)"
   ]
  },
  {
   "cell_type": "code",
   "execution_count": 38,
   "metadata": {},
   "outputs": [
    {
     "data": {
      "text/plain": [
       "[midi.KeySignatureEvent(tick=0, data=[4, 0]),\n",
       " midi.TrackNameEvent(tick=0, text='Vocal', data=[86, 111, 99, 97, 108]),\n",
       " midi.TrackNameEvent(tick=0, text='Electric Piano Mod', data=[69, 108, 101, 99, 116, 114, 105, 99, 32, 80, 105, 97, 110, 111, 32, 77, 111, 100]),\n",
       " midi.TrackNameEvent(tick=0, text='Electric Piano Upper', data=[69, 108, 101, 99, 116, 114, 105, 99, 32, 80, 105, 97, 110, 111, 32, 85, 112, 112, 101, 114]),\n",
       " midi.TrackNameEvent(tick=0, text='Electric Piano Lower', data=[69, 108, 101, 99, 116, 114, 105, 99, 32, 80, 105, 97, 110, 111, 32, 76, 111, 119, 101, 114]),\n",
       " midi.TrackNameEvent(tick=0, text='Accoustic Piano', data=[65, 99, 99, 111, 117, 115, 116, 105, 99, 32, 80, 105, 97, 110, 111]),\n",
       " midi.TrackNameEvent(tick=0, text='Guitar 1', data=[71, 117, 105, 116, 97, 114, 32, 49]),\n",
       " midi.TrackNameEvent(tick=0, text='Guitar 2', data=[71, 117, 105, 116, 97, 114, 32, 50]),\n",
       " midi.TrackNameEvent(tick=0, text='Pedal Bass', data=[80, 101, 100, 97, 108, 32, 66, 97, 115, 115]),\n",
       " midi.TrackNameEvent(tick=0, text='Bass ', data=[66, 97, 115, 115, 32]),\n",
       " midi.TrackNameEvent(tick=0, text='Drums', data=[68, 114, 117, 109, 115]),\n",
       " midi.TrackNameEvent(tick=0, text='Clean Guitar', data=[67, 108, 101, 97, 110, 32, 71, 117, 105, 116, 97, 114]),\n",
       " midi.TrackNameEvent(tick=0, text='Backup Vocal', data=[66, 97, 99, 107, 117, 112, 32, 86, 111, 99, 97, 108]),\n",
       " midi.TrackNameEvent(tick=0, text='Fuzz Guitar', data=[70, 117, 122, 122, 32, 71, 117, 105, 116, 97, 114]),\n",
       " midi.TrackNameEvent(tick=0, text='Echo Fuzz Guitar', data=[69, 99, 104, 111, 32, 70, 117, 122, 122, 32, 71, 117, 105, 116, 97, 114]),\n",
       " midi.TrackNameEvent(tick=0, text='Swish', data=[83, 119, 105, 115, 104]),\n",
       " midi.TrackNameEvent(tick=0, text='\" No Quarter \"', data=[34, 32, 78, 111, 32, 81, 117, 97, 114, 116, 101, 114, 32, 34]),\n",
       " midi.TrackNameEvent(tick=0, text='by Led Zeppelin', data=[98, 121, 32, 76, 101, 100, 32, 90, 101, 112, 112, 101, 108, 105, 110]),\n",
       " midi.TrackNameEvent(tick=0, text='© 1973 ', data=[169, 32, 49, 57, 55, 51, 32]),\n",
       " midi.TrackNameEvent(tick=0, text='Sequenced by', data=[83, 101, 113, 117, 101, 110, 99, 101, 100, 32, 98, 121]),\n",
       " midi.TrackNameEvent(tick=0, text='LowCPM  ( c : =', data=[76, 111, 119, 67, 80, 77, 32, 32, 40, 32, 99, 32, 58, 32, 61]),\n",
       " midi.TrackNameEvent(tick=0, text='Comments?  Email to:', data=[67, 111, 109, 109, 101, 110, 116, 115, 63, 32, 32, 69, 109, 97, 105, 108, 32, 116, 111, 58]),\n",
       " midi.TrackNameEvent(tick=0, text='lowcpm@onramp.net', data=[108, 111, 119, 99, 112, 109, 64, 111, 110, 114, 97, 109, 112, 46, 110, 101, 116])]"
      ]
     },
     "execution_count": 38,
     "metadata": {},
     "output_type": "execute_result"
    }
   ],
   "source": [
    "[_[1] for _ in events]"
   ]
  },
  {
   "cell_type": "code",
   "execution_count": null,
   "metadata": {},
   "outputs": [],
   "source": []
  }
 ],
 "metadata": {
  "kernelspec": {
   "display_name": "keras_env",
   "language": "python",
   "name": "keras_env"
  },
  "language_info": {
   "codemirror_mode": {
    "name": "ipython",
    "version": 3
   },
   "file_extension": ".py",
   "mimetype": "text/x-python",
   "name": "python",
   "nbconvert_exporter": "python",
   "pygments_lexer": "ipython3",
   "version": "3.6.5"
  }
 },
 "nbformat": 4,
 "nbformat_minor": 2
}
