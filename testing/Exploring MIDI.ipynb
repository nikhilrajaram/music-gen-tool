{
 "cells": [
  {
   "cell_type": "code",
   "execution_count": 2,
   "metadata": {},
   "outputs": [],
   "source": [
    "import midi\n",
    "import numpy as np\n",
    "import matplotlib.pyplot as plt\n",
    "import copy\n",
    "%matplotlib inline"
   ]
  },
  {
   "cell_type": "code",
   "execution_count": 3,
   "metadata": {},
   "outputs": [],
   "source": [
    "mid = midi.read_midifile('data/no_quarter/NoQuarter.mid')"
   ]
  },
  {
   "cell_type": "code",
   "execution_count": 4,
   "metadata": {},
   "outputs": [],
   "source": [
    "types = set([])\n",
    "for timestep in mid:\n",
    "    for _ in timestep:\n",
    "        if _ not in types: types.add(type(_))"
   ]
  },
  {
   "cell_type": "code",
   "execution_count": 5,
   "metadata": {},
   "outputs": [
    {
     "data": {
      "text/plain": [
       "{midi.events.ControlChangeEvent,\n",
       " midi.events.EndOfTrackEvent,\n",
       " midi.events.KeySignatureEvent,\n",
       " midi.events.LyricsEvent,\n",
       " midi.events.NoteOnEvent,\n",
       " midi.events.PortEvent,\n",
       " midi.events.ProgramChangeEvent,\n",
       " midi.events.SetTempoEvent,\n",
       " midi.events.TimeSignatureEvent,\n",
       " midi.events.TrackNameEvent}"
      ]
     },
     "execution_count": 5,
     "metadata": {},
     "output_type": "execute_result"
    }
   ],
   "source": [
    "types"
   ]
  },
  {
   "cell_type": "code",
   "execution_count": 6,
   "metadata": {},
   "outputs": [],
   "source": [
    "events = list(mid)"
   ]
  },
  {
   "cell_type": "code",
   "execution_count": 7,
   "metadata": {},
   "outputs": [
    {
     "data": {
      "text/plain": [
       "midi.Track(\\\n",
       "  [midi.TimeSignatureEvent(tick=0, data=[4, 2, 24, 8]),\n",
       "   midi.KeySignatureEvent(tick=0, data=[4, 0]),\n",
       "   midi.SetTempoEvent(tick=0, data=[13, 118, 177]),\n",
       "   midi.EndOfTrackEvent(tick=0, data=[])])"
      ]
     },
     "execution_count": 7,
     "metadata": {},
     "output_type": "execute_result"
    }
   ],
   "source": [
    "events[0]"
   ]
  },
  {
   "cell_type": "code",
   "execution_count": 8,
   "metadata": {
    "scrolled": false
   },
   "outputs": [
    {
     "name": "stdout",
     "output_type": "stream",
     "text": [
      "midi.Track(\\\n",
      "  [midi.PortEvent(tick=0, data=[0]),\n",
      "   midi.TrackNameEvent(tick=0, text='Electric Piano Mod', data=[69, 108, 101, 99, 116, 114, 105, 99, 32, 80, 105, 97, 110, 111, 32, 77, 111, 100]),\n",
      "   midi.ProgramChangeEvent(tick=0, channel=10, data=[79]),\n",
      "   midi.ControlChangeEvent(tick=0, channel=10, data=[7, 100]),\n",
      "   midi.ControlChangeEvent(tick=0, channel=10, data=[10, 64]),\n",
      "   midi.ControlChangeEvent(tick=1938, channel=10, data=[1, 99]),\n",
      "   midi.NoteOnEvent(tick=72, channel=10, data=[68, 48]),\n",
      "   midi.NoteOnEvent(tick=90, channel=10, data=[68, 0]),\n",
      "   midi.NoteOnEvent(tick=30, channel=10, data=[71, 49]),\n",
      "   midi.NoteOnEvent(tick=90, channel=10, data=[71, 0]),\n",
      "   midi.NoteOnEvent(tick=30, channel=10, data=[73, 49]),\n",
      "   midi.NoteOnEvent(tick=60, channel=10, data=[73, 0]),\n",
      "   midi.NoteOnEvent(tick=30, channel=10, data=[75, 49]),\n",
      "   midi.NoteOnEvent(tick=150, channel=10, data=[75, 0]),\n",
      "   midi.NoteOnEvent(tick=30, channel=10, data=[71, 50]),\n",
      "   midi.NoteOnEvent(tick=30, channel=10, data=[71, 0]),\n",
      "   midi.NoteOnEvent(tick=0, channel=10, data=[68, 50]),\n",
      "   midi.NoteOnEvent(tick=60, channel=10, data=[68, 0]),\n",
      "   midi.NoteOnEvent(tick=0, channel=10, data=[70, 50]),\n",
      "   midi.NoteOnEvent(tick=150, channel=10, data=[70, 0]),\n",
      "   midi.NoteOnEvent(tick=240, channel=10, data=[71, 51]),\n",
      "   midi.NoteOnEvent(tick=60, channel=10, data=[71, 0]),\n",
      "   midi.NoteOnEvent(tick=30, channel=10, data=[71, 51]),\n",
      "   midi.NoteOnEvent(tick=60, channel=10, data=[71, 0]),\n",
      "   midi.NoteOnEvent(tick=0, channel=10, data=[73, 52]),\n",
      "   midi.NoteOnEvent(tick=60, channel=10, data=[73, 0]),\n",
      "   midi.NoteOnEvent(tick=90, channel=10, data=[68, 52]),\n",
      "   midi.NoteOnEvent(tick=210, channel=10, data=[68, 0]),\n",
      "   midi.NoteOnEvent(tick=420, channel=10, data=[68, 54]),\n",
      "   midi.NoteOnEvent(tick=90, channel=10, data=[68, 0]),\n",
      "   midi.NoteOnEvent(tick=30, channel=10, data=[71, 55]),\n",
      "   midi.NoteOnEvent(tick=90, channel=10, data=[71, 0]),\n",
      "   midi.NoteOnEvent(tick=30, channel=10, data=[73, 56]),\n",
      "   midi.NoteOnEvent(tick=60, channel=10, data=[73, 0]),\n",
      "   midi.NoteOnEvent(tick=30, channel=10, data=[75, 56]),\n",
      "   midi.NoteOnEvent(tick=150, channel=10, data=[75, 0]),\n",
      "   midi.NoteOnEvent(tick=30, channel=10, data=[68, 56]),\n",
      "   midi.NoteOnEvent(tick=0, channel=10, data=[71, 56]),\n",
      "   midi.NoteOnEvent(tick=90, channel=10, data=[71, 0]),\n",
      "   midi.NoteOnEvent(tick=0, channel=10, data=[68, 0]),\n",
      "   midi.NoteOnEvent(tick=0, channel=10, data=[68, 56]),\n",
      "   midi.NoteOnEvent(tick=60, channel=10, data=[68, 0]),\n",
      "   midi.NoteOnEvent(tick=330, channel=10, data=[71, 58]),\n",
      "   midi.NoteOnEvent(tick=90, channel=10, data=[71, 0]),\n",
      "   midi.NoteOnEvent(tick=0, channel=10, data=[71, 58]),\n",
      "   midi.NoteOnEvent(tick=60, channel=10, data=[71, 0]),\n",
      "   midi.NoteOnEvent(tick=0, channel=10, data=[73, 58]),\n",
      "   midi.NoteOnEvent(tick=90, channel=10, data=[73, 0]),\n",
      "   midi.NoteOnEvent(tick=60, channel=10, data=[68, 59]),\n",
      "   midi.NoteOnEvent(tick=210, channel=10, data=[68, 0]),\n",
      "   midi.NoteOnEvent(tick=450, channel=10, data=[68, 61]),\n",
      "   midi.NoteOnEvent(tick=60, channel=10, data=[68, 0]),\n",
      "   midi.NoteOnEvent(tick=30, channel=10, data=[71, 61]),\n",
      "   midi.NoteOnEvent(tick=90, channel=10, data=[71, 0]),\n",
      "   midi.NoteOnEvent(tick=30, channel=10, data=[73, 62]),\n",
      "   midi.NoteOnEvent(tick=90, channel=10, data=[73, 0]),\n",
      "   midi.NoteOnEvent(tick=30, channel=10, data=[75, 62]),\n",
      "   midi.NoteOnEvent(tick=150, channel=10, data=[75, 0]),\n",
      "   midi.NoteOnEvent(tick=450, channel=10, data=[75, 70]),\n",
      "   midi.NoteOnEvent(tick=30, channel=10, data=[75, 0]),\n",
      "   midi.NoteOnEvent(tick=0, channel=10, data=[75, 70]),\n",
      "   midi.NoteOnEvent(tick=90, channel=10, data=[75, 0]),\n",
      "   midi.NoteOnEvent(tick=0, channel=10, data=[75, 70]),\n",
      "   midi.NoteOnEvent(tick=60, channel=10, data=[75, 0]),\n",
      "   midi.NoteOnEvent(tick=0, channel=10, data=[76, 70]),\n",
      "   midi.NoteOnEvent(tick=60, channel=10, data=[76, 0]),\n",
      "   midi.NoteOnEvent(tick=0, channel=10, data=[76, 70]),\n",
      "   midi.NoteOnEvent(tick=60, channel=10, data=[76, 0]),\n",
      "   midi.NoteOnEvent(tick=0, channel=10, data=[78, 70]),\n",
      "   midi.NoteOnEvent(tick=60, channel=10, data=[78, 0]),\n",
      "   midi.NoteOnEvent(tick=0, channel=10, data=[68, 70]),\n",
      "   midi.NoteOnEvent(tick=0, channel=10, data=[80, 70]),\n",
      "   midi.NoteOnEvent(tick=150, channel=10, data=[80, 0]),\n",
      "   midi.NoteOnEvent(tick=0, channel=10, data=[68, 0]),\n",
      "   midi.NoteOnEvent(tick=480, channel=10, data=[80, 70]),\n",
      "   midi.NoteOnEvent(tick=0, channel=10, data=[68, 70]),\n",
      "   midi.NoteOnEvent(tick=90, channel=10, data=[68, 0]),\n",
      "   midi.NoteOnEvent(tick=0, channel=10, data=[80, 0]),\n",
      "   midi.NoteOnEvent(tick=0, channel=10, data=[68, 70]),\n",
      "   midi.NoteOnEvent(tick=0, channel=10, data=[80, 70]),\n",
      "   midi.NoteOnEvent(tick=60, channel=10, data=[80, 0]),\n",
      "   midi.NoteOnEvent(tick=0, channel=10, data=[68, 0]),\n",
      "   midi.NoteOnEvent(tick=0, channel=10, data=[83, 70]),\n",
      "   midi.NoteOnEvent(tick=0, channel=10, data=[71, 70]),\n",
      "   midi.NoteOnEvent(tick=60, channel=10, data=[71, 0]),\n",
      "   midi.NoteOnEvent(tick=0, channel=10, data=[83, 0]),\n",
      "   midi.NoteOnEvent(tick=0, channel=10, data=[78, 70]),\n",
      "   midi.NoteOnEvent(tick=90, channel=10, data=[78, 0]),\n",
      "   midi.NoteOnEvent(tick=0, channel=10, data=[80, 70]),\n",
      "   midi.NoteOnEvent(tick=0, channel=10, data=[68, 70]),\n",
      "   midi.NoteOnEvent(tick=60, channel=10, data=[68, 0]),\n",
      "   midi.NoteOnEvent(tick=0, channel=10, data=[80, 0]),\n",
      "   midi.NoteOnEvent(tick=0, channel=10, data=[68, 70]),\n",
      "   midi.NoteOnEvent(tick=0, channel=10, data=[73, 70]),\n",
      "   midi.NoteOnEvent(tick=0, channel=10, data=[76, 70]),\n",
      "   midi.NoteOnEvent(tick=90, channel=10, data=[76, 0]),\n",
      "   midi.NoteOnEvent(tick=0, channel=10, data=[73, 0]),\n",
      "   midi.NoteOnEvent(tick=0, channel=10, data=[68, 0]),\n",
      "   midi.NoteOnEvent(tick=3540, channel=10, data=[68, 70]),\n",
      "   midi.NoteOnEvent(tick=60, channel=10, data=[68, 0]),\n",
      "   midi.NoteOnEvent(tick=0, channel=10, data=[71, 70]),\n",
      "   midi.NoteOnEvent(tick=150, channel=10, data=[71, 0]),\n",
      "   midi.NoteOnEvent(tick=2010, channel=10, data=[68, 56]),\n",
      "   midi.NoteOnEvent(tick=90, channel=10, data=[68, 0]),\n",
      "   midi.NoteOnEvent(tick=30, channel=10, data=[68, 56]),\n",
      "   midi.NoteOnEvent(tick=90, channel=10, data=[68, 0]),\n",
      "   midi.NoteOnEvent(tick=30, channel=10, data=[73, 56]),\n",
      "   midi.NoteOnEvent(tick=60, channel=10, data=[73, 0]),\n",
      "   midi.NoteOnEvent(tick=30, channel=10, data=[75, 56]),\n",
      "   midi.NoteOnEvent(tick=210, channel=10, data=[75, 0]),\n",
      "   midi.NoteOnEvent(tick=0, channel=10, data=[71, 70]),\n",
      "   midi.NoteOnEvent(tick=60, channel=10, data=[71, 0]),\n",
      "   midi.NoteOnEvent(tick=0, channel=10, data=[71, 70]),\n",
      "   midi.NoteOnEvent(tick=150, channel=10, data=[71, 0]),\n",
      "   midi.NoteOnEvent(tick=0, channel=10, data=[70, 70]),\n",
      "   midi.NoteOnEvent(tick=210, channel=10, data=[70, 0]),\n",
      "   midi.NoteOnEvent(tick=30, channel=10, data=[71, 56]),\n",
      "   midi.NoteOnEvent(tick=60, channel=10, data=[71, 0]),\n",
      "   midi.NoteOnEvent(tick=30, channel=10, data=[71, 56]),\n",
      "   midi.NoteOnEvent(tick=60, channel=10, data=[71, 0]),\n",
      "   midi.NoteOnEvent(tick=0, channel=10, data=[73, 56]),\n",
      "   midi.NoteOnEvent(tick=60, channel=10, data=[73, 0]),\n",
      "   midi.NoteOnEvent(tick=90, channel=10, data=[68, 56]),\n",
      "   midi.NoteOnEvent(tick=210, channel=10, data=[68, 0]),\n",
      "   midi.NoteOnEvent(tick=450, channel=10, data=[68, 56]),\n",
      "   midi.NoteOnEvent(tick=60, channel=10, data=[68, 0]),\n",
      "   midi.NoteOnEvent(tick=30, channel=10, data=[71, 56]),\n",
      "   midi.NoteOnEvent(tick=90, channel=10, data=[71, 0]),\n",
      "   midi.NoteOnEvent(tick=30, channel=10, data=[73, 56]),\n",
      "   midi.NoteOnEvent(tick=60, channel=10, data=[73, 0]),\n",
      "   midi.NoteOnEvent(tick=30, channel=10, data=[75, 56]),\n",
      "   midi.NoteOnEvent(tick=210, channel=10, data=[75, 0]),\n",
      "   midi.NoteOnEvent(tick=0, channel=10, data=[68, 70]),\n",
      "   midi.NoteOnEvent(tick=60, channel=10, data=[68, 0]),\n",
      "   midi.NoteOnEvent(tick=390, channel=10, data=[71, 56]),\n",
      "   midi.NoteOnEvent(tick=90, channel=10, data=[71, 0]),\n",
      "   midi.NoteOnEvent(tick=0, channel=10, data=[71, 56]),\n",
      "   midi.NoteOnEvent(tick=60, channel=10, data=[71, 0]),\n",
      "   midi.NoteOnEvent(tick=0, channel=10, data=[73, 56]),\n",
      "   midi.NoteOnEvent(tick=90, channel=10, data=[73, 0]),\n",
      "   midi.NoteOnEvent(tick=60, channel=10, data=[68, 56]),\n",
      "   midi.NoteOnEvent(tick=180, channel=10, data=[68, 0]),\n",
      "   midi.NoteOnEvent(tick=480, channel=10, data=[68, 56]),\n",
      "   midi.NoteOnEvent(tick=60, channel=10, data=[68, 0]),\n",
      "   midi.NoteOnEvent(tick=30, channel=10, data=[71, 56]),\n",
      "   midi.NoteOnEvent(tick=90, channel=10, data=[71, 0]),\n",
      "   midi.NoteOnEvent(tick=30, channel=10, data=[73, 56]),\n",
      "   midi.NoteOnEvent(tick=90, channel=10, data=[73, 0]),\n",
      "   midi.NoteOnEvent(tick=30, channel=10, data=[75, 56]),\n",
      "   midi.NoteOnEvent(tick=150, channel=10, data=[75, 0]),\n",
      "   midi.NoteOnEvent(tick=0, channel=10, data=[68, 70]),\n",
      "   midi.NoteOnEvent(tick=90, channel=10, data=[68, 0]),\n",
      "   midi.NoteOnEvent(tick=390, channel=10, data=[75, 56]),\n",
      "   midi.NoteOnEvent(tick=90, channel=10, data=[75, 0]),\n",
      "   midi.NoteOnEvent(tick=0, channel=10, data=[75, 56]),\n",
      "   midi.NoteOnEvent(tick=60, channel=10, data=[75, 0]),\n",
      "   midi.NoteOnEvent(tick=0, channel=10, data=[76, 56]),\n",
      "   midi.NoteOnEvent(tick=60, channel=10, data=[76, 0]),\n",
      "   midi.NoteOnEvent(tick=0, channel=10, data=[76, 56]),\n",
      "   midi.NoteOnEvent(tick=90, channel=10, data=[76, 0]),\n",
      "   midi.NoteOnEvent(tick=0, channel=10, data=[78, 56]),\n",
      "   midi.NoteOnEvent(tick=60, channel=10, data=[78, 0]),\n",
      "   midi.NoteOnEvent(tick=0, channel=10, data=[68, 70]),\n",
      "   midi.NoteOnEvent(tick=0, channel=10, data=[80, 70]),\n",
      "   midi.NoteOnEvent(tick=120, channel=10, data=[80, 0]),\n",
      "   midi.NoteOnEvent(tick=0, channel=10, data=[68, 0]),\n",
      "   midi.NoteOnEvent(tick=480, channel=10, data=[80, 63]),\n",
      "   midi.NoteOnEvent(tick=60, channel=10, data=[80, 0]),\n",
      "   midi.NoteOnEvent(tick=0, channel=10, data=[80, 63]),\n",
      "   midi.NoteOnEvent(tick=30, channel=10, data=[80, 0]),\n",
      "   midi.NoteOnEvent(tick=0, channel=10, data=[80, 63]),\n",
      "   midi.NoteOnEvent(tick=60, channel=10, data=[80, 0]),\n",
      "   midi.NoteOnEvent(tick=0, channel=10, data=[83, 63]),\n",
      "   midi.NoteOnEvent(tick=60, channel=10, data=[83, 0]),\n",
      "   midi.NoteOnEvent(tick=0, channel=10, data=[78, 63]),\n",
      "   midi.NoteOnEvent(tick=90, channel=10, data=[78, 0]),\n",
      "   midi.NoteOnEvent(tick=0, channel=10, data=[80, 63]),\n",
      "   midi.NoteOnEvent(tick=60, channel=10, data=[80, 0]),\n",
      "   midi.NoteOnEvent(tick=0, channel=10, data=[73, 63]),\n",
      "   midi.NoteOnEvent(tick=0, channel=10, data=[76, 63]),\n",
      "   midi.NoteOnEvent(tick=90, channel=10, data=[76, 0]),\n",
      "   midi.NoteOnEvent(tick=0, channel=10, data=[73, 0]),\n",
      "   midi.NoteOnEvent(tick=19680, channel=10, data=[68, 70]),\n",
      "   midi.NoteOnEvent(tick=90, channel=10, data=[68, 0]),\n",
      "   midi.NoteOnEvent(tick=30, channel=10, data=[68, 70]),\n",
      "   midi.NoteOnEvent(tick=90, channel=10, data=[68, 0]),\n",
      "   midi.NoteOnEvent(tick=30, channel=10, data=[73, 70]),\n",
      "   midi.NoteOnEvent(tick=60, channel=10, data=[73, 0]),\n",
      "   midi.NoteOnEvent(tick=30, channel=10, data=[75, 70]),\n",
      "   midi.NoteOnEvent(tick=210, channel=10, data=[75, 0]),\n",
      "   midi.NoteOnEvent(tick=0, channel=10, data=[71, 70]),\n",
      "   midi.NoteOnEvent(tick=60, channel=10, data=[71, 0]),\n",
      "   midi.NoteOnEvent(tick=0, channel=10, data=[71, 70]),\n",
      "   midi.NoteOnEvent(tick=150, channel=10, data=[71, 0]),\n",
      "   midi.NoteOnEvent(tick=0, channel=10, data=[70, 70]),\n",
      "   midi.NoteOnEvent(tick=210, channel=10, data=[70, 0]),\n",
      "   midi.NoteOnEvent(tick=30, channel=10, data=[71, 70]),\n",
      "   midi.NoteOnEvent(tick=60, channel=10, data=[71, 0]),\n",
      "   midi.NoteOnEvent(tick=30, channel=10, data=[71, 70]),\n",
      "   midi.NoteOnEvent(tick=60, channel=10, data=[71, 0]),\n",
      "   midi.NoteOnEvent(tick=0, channel=10, data=[73, 70]),\n",
      "   midi.NoteOnEvent(tick=60, channel=10, data=[73, 0]),\n",
      "   midi.NoteOnEvent(tick=90, channel=10, data=[68, 70]),\n",
      "   midi.NoteOnEvent(tick=210, channel=10, data=[68, 0]),\n",
      "   midi.NoteOnEvent(tick=450, channel=10, data=[68, 70]),\n",
      "   midi.NoteOnEvent(tick=60, channel=10, data=[68, 0]),\n",
      "   midi.NoteOnEvent(tick=30, channel=10, data=[71, 70]),\n",
      "   midi.NoteOnEvent(tick=90, channel=10, data=[71, 0]),\n",
      "   midi.NoteOnEvent(tick=30, channel=10, data=[73, 70]),\n",
      "   midi.NoteOnEvent(tick=60, channel=10, data=[73, 0]),\n",
      "   midi.NoteOnEvent(tick=30, channel=10, data=[75, 70]),\n",
      "   midi.NoteOnEvent(tick=210, channel=10, data=[75, 0]),\n",
      "   midi.NoteOnEvent(tick=0, channel=10, data=[68, 70]),\n",
      "   midi.NoteOnEvent(tick=60, channel=10, data=[68, 0]),\n",
      "   midi.NoteOnEvent(tick=390, channel=10, data=[71, 70]),\n",
      "   midi.NoteOnEvent(tick=90, channel=10, data=[71, 0]),\n",
      "   midi.NoteOnEvent(tick=0, channel=10, data=[71, 70]),\n",
      "   midi.NoteOnEvent(tick=60, channel=10, data=[71, 0]),\n",
      "   midi.NoteOnEvent(tick=0, channel=10, data=[73, 70]),\n",
      "   midi.NoteOnEvent(tick=90, channel=10, data=[73, 0]),\n",
      "   midi.NoteOnEvent(tick=60, channel=10, data=[68, 70]),\n",
      "   midi.NoteOnEvent(tick=180, channel=10, data=[68, 0]),\n",
      "   midi.NoteOnEvent(tick=480, channel=10, data=[68, 70]),\n",
      "   midi.NoteOnEvent(tick=60, channel=10, data=[68, 0]),\n",
      "   midi.NoteOnEvent(tick=30, channel=10, data=[71, 70]),\n",
      "   midi.NoteOnEvent(tick=90, channel=10, data=[71, 0]),\n",
      "   midi.NoteOnEvent(tick=30, channel=10, data=[73, 70]),\n",
      "   midi.NoteOnEvent(tick=90, channel=10, data=[73, 0]),\n",
      "   midi.NoteOnEvent(tick=30, channel=10, data=[75, 70]),\n",
      "   midi.NoteOnEvent(tick=150, channel=10, data=[75, 0]),\n",
      "   midi.NoteOnEvent(tick=0, channel=10, data=[68, 70]),\n",
      "   midi.NoteOnEvent(tick=90, channel=10, data=[68, 0]),\n",
      "   midi.NoteOnEvent(tick=390, channel=10, data=[75, 70]),\n",
      "   midi.NoteOnEvent(tick=90, channel=10, data=[75, 0]),\n",
      "   midi.NoteOnEvent(tick=0, channel=10, data=[75, 70]),\n",
      "   midi.NoteOnEvent(tick=60, channel=10, data=[75, 0]),\n",
      "   midi.NoteOnEvent(tick=0, channel=10, data=[76, 70]),\n",
      "   midi.NoteOnEvent(tick=60, channel=10, data=[76, 0]),\n",
      "   midi.NoteOnEvent(tick=0, channel=10, data=[76, 70]),\n",
      "   midi.NoteOnEvent(tick=90, channel=10, data=[76, 0]),\n",
      "   midi.NoteOnEvent(tick=0, channel=10, data=[78, 70]),\n",
      "   midi.NoteOnEvent(tick=60, channel=10, data=[78, 0]),\n",
      "   midi.NoteOnEvent(tick=0, channel=10, data=[68, 70]),\n",
      "   midi.NoteOnEvent(tick=0, channel=10, data=[80, 70]),\n",
      "   midi.NoteOnEvent(tick=120, channel=10, data=[80, 0]),\n",
      "   midi.NoteOnEvent(tick=0, channel=10, data=[68, 0]),\n",
      "   midi.NoteOnEvent(tick=480, channel=10, data=[80, 70]),\n",
      "   midi.NoteOnEvent(tick=60, channel=10, data=[80, 0]),\n",
      "   midi.NoteOnEvent(tick=0, channel=10, data=[80, 70]),\n",
      "   midi.NoteOnEvent(tick=30, channel=10, data=[80, 0]),\n",
      "   midi.NoteOnEvent(tick=0, channel=10, data=[80, 70]),\n",
      "   midi.NoteOnEvent(tick=60, channel=10, data=[80, 0]),\n",
      "   midi.NoteOnEvent(tick=0, channel=10, data=[83, 70]),\n",
      "   midi.NoteOnEvent(tick=60, channel=10, data=[83, 0]),\n",
      "   midi.NoteOnEvent(tick=0, channel=10, data=[78, 70]),\n",
      "   midi.NoteOnEvent(tick=90, channel=10, data=[78, 0]),\n",
      "   midi.NoteOnEvent(tick=0, channel=10, data=[80, 70]),\n",
      "   midi.NoteOnEvent(tick=60, channel=10, data=[80, 0]),\n",
      "   midi.ControlChangeEvent(tick=8860, channel=10, data=[93, 0]),\n",
      "   midi.ControlChangeEvent(tick=64, channel=10, data=[1, 0]),\n",
      "   midi.EndOfTrackEvent(tick=0, data=[])])\n"
     ]
    }
   ],
   "source": [
    "print(events[2])"
   ]
  },
  {
   "cell_type": "markdown",
   "metadata": {},
   "source": [
    "First channel of file seems to be metadata about playback — time signature, key signature, tempo"
   ]
  },
  {
   "cell_type": "code",
   "execution_count": 9,
   "metadata": {
    "scrolled": false
   },
   "outputs": [
    {
     "name": "stdout",
     "output_type": "stream",
     "text": [
      "midi.PortEvent(tick=0, data=[0])\n",
      "midi.PortEvent(tick=0, data=[0])\n",
      "midi.PortEvent(tick=0, data=[0])\n",
      "midi.PortEvent(tick=0, data=[0])\n",
      "midi.PortEvent(tick=0, data=[0])\n",
      "midi.PortEvent(tick=0, data=[0])\n",
      "midi.PortEvent(tick=0, data=[0])\n",
      "midi.PortEvent(tick=0, data=[0])\n",
      "midi.PortEvent(tick=0, data=[0])\n",
      "midi.PortEvent(tick=0, data=[0])\n",
      "midi.PortEvent(tick=0, data=[0])\n",
      "midi.PortEvent(tick=0, data=[0])\n",
      "midi.PortEvent(tick=0, data=[0])\n",
      "midi.PortEvent(tick=0, data=[0])\n",
      "midi.PortEvent(tick=0, data=[0])\n",
      "midi.PortEvent(tick=0, data=[0])\n",
      "midi.PortEvent(tick=0, data=[0])\n",
      "midi.PortEvent(tick=0, data=[0])\n",
      "midi.PortEvent(tick=0, data=[0])\n",
      "midi.PortEvent(tick=0, data=[0])\n",
      "midi.PortEvent(tick=0, data=[0])\n",
      "midi.PortEvent(tick=0, data=[0])\n"
     ]
    }
   ],
   "source": [
    "for _ in events[1:]: print(_[0])"
   ]
  },
  {
   "cell_type": "markdown",
   "metadata": {},
   "source": [
    "First event on rest of channels is a `PortEvent`"
   ]
  },
  {
   "cell_type": "code",
   "execution_count": 10,
   "metadata": {
    "scrolled": false
   },
   "outputs": [
    {
     "name": "stdout",
     "output_type": "stream",
     "text": [
      "Track 1: Vocal\n",
      "Track 2: Electric Piano Mod\n",
      "Track 3: Electric Piano Upper\n",
      "Track 4: Electric Piano Lower\n",
      "Track 5: Accoustic Piano\n",
      "Track 6: Guitar 1\n",
      "Track 7: Guitar 2\n",
      "Track 8: Pedal Bass\n",
      "Track 9: Bass \n",
      "Track 10: Drums\n",
      "Track 11: Clean Guitar\n",
      "Track 12: Backup Vocal\n",
      "Track 13: Fuzz Guitar\n",
      "Track 14: Echo Fuzz Guitar\n",
      "Track 15: Swish\n",
      "Track 16: \" No Quarter \"\n",
      "Track 17: by Led Zeppelin\n",
      "Track 18: © 1973 \n",
      "Track 19: Sequenced by\n",
      "Track 20: LowCPM  ( c : =\n",
      "Track 21: Comments?  Email to:\n",
      "Track 22: lowcpm@onramp.net\n"
     ]
    }
   ],
   "source": [
    "for i, _ in enumerate(events[1:]): print('Track {}: {}'.format(i+1, _[1].text))"
   ]
  },
  {
   "cell_type": "markdown",
   "metadata": {},
   "source": [
    "Tracks 1-15 seem to be actual instrument channels, rest of them metadata?"
   ]
  },
  {
   "cell_type": "code",
   "execution_count": 11,
   "metadata": {},
   "outputs": [
    {
     "name": "stdout",
     "output_type": "stream",
     "text": [
      "[<class 'midi.events.PortEvent'>, <class 'midi.events.TrackNameEvent'>, <class 'midi.events.EndOfTrackEvent'>]\n",
      "[<class 'midi.events.PortEvent'>, <class 'midi.events.TrackNameEvent'>, <class 'midi.events.EndOfTrackEvent'>]\n",
      "[<class 'midi.events.PortEvent'>, <class 'midi.events.TrackNameEvent'>, <class 'midi.events.EndOfTrackEvent'>]\n",
      "[<class 'midi.events.PortEvent'>, <class 'midi.events.TrackNameEvent'>, <class 'midi.events.EndOfTrackEvent'>]\n",
      "[<class 'midi.events.PortEvent'>, <class 'midi.events.TrackNameEvent'>, <class 'midi.events.EndOfTrackEvent'>]\n",
      "[<class 'midi.events.PortEvent'>, <class 'midi.events.TrackNameEvent'>, <class 'midi.events.EndOfTrackEvent'>]\n",
      "[<class 'midi.events.PortEvent'>, <class 'midi.events.TrackNameEvent'>, <class 'midi.events.EndOfTrackEvent'>]\n"
     ]
    }
   ],
   "source": [
    "for i, _ in enumerate(events[16:]): print([type(x) for x in _])"
   ]
  },
  {
   "cell_type": "markdown",
   "metadata": {},
   "source": [
    "All tracks follow same structure — `PortEvent`, `TrackNameEvent`, `EndOfTrackEvent`, so they are just metadata. Thus, we are interested in tracks 1-15. Let's investigate these tracks as the input."
   ]
  },
  {
   "cell_type": "code",
   "execution_count": 12,
   "metadata": {
    "scrolled": false
   },
   "outputs": [
    {
     "name": "stdout",
     "output_type": "stream",
     "text": [
      "Track 1: 665 events\n",
      "Track 2: 261 events\n",
      "Track 3: 2936 events\n",
      "Track 4: 1025 events\n",
      "Track 5: 417 events\n",
      "Track 6: 365 events\n",
      "Track 7: 1564 events\n",
      "Track 8: 908 events\n",
      "Track 9: 54 events\n",
      "Track 10: 2382 events\n",
      "Track 11: 54 events\n",
      "Track 12: 194 events\n",
      "Track 13: 348 events\n",
      "Track 14: 741 events\n",
      "Track 15: 230 events\n"
     ]
    },
    {
     "data": {
      "image/png": "[encoded data removed]",
      "text/plain": [
       "<Figure size 432x288 with 1 Axes>"
      ]
     },
     "metadata": {
      "needs_background": "light"
     },
     "output_type": "display_data"
    }
   ],
   "source": [
    "n_events = [len(_) for _ in events[1:16]]\n",
    "for i, _ in enumerate(n_events): \n",
    "    print('Track {}: {} events'.format(i+1, _))\n",
    "\n",
    "plt.hist(n_events, bins=15)\n",
    "plt.title('Histogram of number of events for a track')\n",
    "plt.xlabel('Number of events')\n",
    "plt.ylabel('Frequency')\n",
    "plt.show()"
   ]
  },
  {
   "cell_type": "markdown",
   "metadata": {},
   "source": [
    "So we have our 15 tracks, each with varying numbers of events. "
   ]
  },
  {
   "cell_type": "code",
   "execution_count": 13,
   "metadata": {},
   "outputs": [
    {
     "name": "stdout",
     "output_type": "stream",
     "text": [
      "track   | n events | avg data len | avg data len by n events\n",
      "============================================================\n",
      "      1 |      665 |     2.569925 |     0.003865\n",
      "      2 |      261 |     2.045977 |     0.007839\n",
      "      3 |     2936 |     2.004768 |     0.000683\n",
      "      4 |     1025 |     2.013659 |     0.001965\n",
      "      5 |      417 |     2.021583 |     0.004848\n",
      "      6 |      365 |     2.005479 |     0.005494\n",
      "      7 |     1564 |     2.001279 |     0.001280\n",
      "      8 |      908 |     2.004405 |     0.002207\n",
      "      9 |       54 |     1.981481 |     0.036694\n",
      "     10 |     2382 |     2.000000 |     0.000840\n",
      "     11 |       54 |     2.111111 |     0.039095\n",
      "     12 |      194 |     2.030928 |     0.010469\n",
      "     13 |      348 |     2.014368 |     0.005788\n",
      "     14 |      741 |     2.013495 |     0.002717\n",
      "     15 |      230 |     1.995652 |     0.008677\n"
     ]
    }
   ],
   "source": [
    "n_data = {i: [len(events[i][j].data) for j in range(len(events[i]))] for i in range(1, 16)}\n",
    "mean_data_lens = []\n",
    "print('{:7s} | {:8s} | {:12s} | {}'.format('track', 'n events', 'avg data len', 'avg data len by n events'))\n",
    "print('='*60)\n",
    "for n_track, len_data in n_data.items():\n",
    "    mean_len_data = np.mean(len_data)\n",
    "    mean_data_lens.append(mean_len_data)\n",
    "    print('{:7d} | {:8d} | {:12f} | {:12f}'.format(n_track, \n",
    "                                               n_events[n_track-1], \n",
    "                                               mean_len_data, \n",
    "                                               mean_len_data/n_events[n_track-1]))"
   ]
  },
  {
   "cell_type": "code",
   "execution_count": 14,
   "metadata": {},
   "outputs": [
    {
     "data": {
      "image/png": "[encoded data removed]",
      "text/plain": [
       "<Figure size 432x288 with 1 Axes>"
      ]
     },
     "metadata": {
      "needs_background": "light"
     },
     "output_type": "display_data"
    }
   ],
   "source": [
    "plt.scatter(n_events, mean_data_lens)\n",
    "plt.title('Average length of data vector by number of events')\n",
    "plt.xlabel('Number of Events')\n",
    "plt.ylabel('Average length of data vector')\n",
    "plt.show()"
   ]
  },
  {
   "cell_type": "code",
   "execution_count": 15,
   "metadata": {},
   "outputs": [
    {
     "name": "stdout",
     "output_type": "stream",
     "text": [
      "{\"<class 'midi.events.EndOfTrackEvent'>\", \"<class 'midi.events.PortEvent'>\", \"<class 'midi.events.LyricsEvent'>\", \"<class 'midi.events.ControlChangeEvent'>\", \"<class 'midi.events.NoteOnEvent'>\", \"<class 'midi.events.TrackNameEvent'>\", \"<class 'midi.events.ProgramChangeEvent'>\"}\n"
     ]
    }
   ],
   "source": [
    "# find outlier\n",
    "outlier_track = [i+1 for (i, _) in enumerate(mean_data_lens) if _ > 2.3][0]\n",
    "print(set([str(type(_)) for _ in events[outlier_track]]))"
   ]
  },
  {
   "cell_type": "markdown",
   "metadata": {},
   "source": [
    "So most data vectors have an average length of 2.0-2.1, indicating that they're typical instrument tracks with pitch/velocity bytes. The outlier track, we see, is the Vocal track, which is sensible as lyrics can be arbitrarily long."
   ]
  },
  {
   "cell_type": "code",
   "execution_count": 16,
   "metadata": {},
   "outputs": [],
   "source": [
    "instrument_tracks = events[1:(outlier_track+1)] + events[(outlier_track+1):16]"
   ]
  },
  {
   "cell_type": "code",
   "execution_count": 17,
   "metadata": {},
   "outputs": [],
   "source": [
    "for track in instrument_tracks:\n",
    "    pattern = midi.Pattern(format=mid.format, resolution=mid.resolution, tick_relative=mid.tick_relative)\n",
    "    pattern.append(events[0])\n",
    "    pattern.append(track)\n",
    "    midi.write_midifile('data/no_quarter/tracks/{}_track_no_quarter.mid'.format(track[1].text), pattern)"
   ]
  },
  {
   "cell_type": "markdown",
   "metadata": {},
   "source": [
    "Preliminary general workflow: \n",
    "\n",
    "1. Collate train/test corpus\n",
    "   * Put songs together sequentially, then train on whole time series?\n",
    "   * How to resolve track differences? \n",
    "   * Find \n",
    "2. "
   ]
  },
  {
   "cell_type": "code",
   "execution_count": 18,
   "metadata": {},
   "outputs": [],
   "source": [
    "pattern = midi.Pattern()\n",
    "timeSpec = copy.deepcopy(mid[0])\n",
    "timeSpec[2].set_bpm(120)\n",
    "timeSpec[2].set_mpqn(500000)\n",
    "pattern.append(timeSpec)\n",
    "track = midi.Track()\n",
    "pattern.append(track)\n",
    "track.append(midi.PortEvent(tick=0, data=[0]))\n",
    "track.append(midi.TrackNameEvent(tick=0, text='Thank you Kanye, very cool!', data=[69, 108, 101, 99, 116, 114, 105, 99, 32, 80, 105, 97, 110, 111, 32, 77, 111, 100]),)\n",
    "track.append(midi.ProgramChangeEvent(tick=0, channel=10, data=[79]))\n",
    "\n",
    "f = lambda x: np.array([int(_) for _ in x])\n",
    "\n",
    "note_low = 57+16\n",
    "note_high = 69+16\n",
    "n = note_high - note_low + 1\n",
    "space = f(np.sqrt(np.linspace(note_low, note_high, n, dtype=int)**2))\n",
    "N = np.sum(space)\n",
    "\n",
    "hold_low = 0\n",
    "hold_high = 99\n",
    "n = hold_high - hold_low + 1\n",
    "hold_space = np.linspace(note_low, note_high, n, dtype=int)\n",
    "hold_N = np.sum(hold_space)\n",
    "\n",
    "for i in range(2, 100):\n",
    "    p = np.random.choice(space, p=space/N)\n",
    "    track.append(midi.NoteOnEvent(tick=16*int(np.log(i)), channel=1, data=[p, 127]))\n",
    "    track.append(midi.NoteOnEvent(tick=16*int(np.log(i))+np.random.choice(100, p=hold_space/hold_N), channel=10, data=[p, 0]))\n",
    "    \n",
    "track.append(midi.EndOfTrackEvent(tick=track[-1].tick, data=[]))\n",
    "    \n",
    "# track.append(midi.EndOfTrackEvent(tick=100))\n",
    "midi.write_midifile(\"data/no_quarter/tracks/example.mid\", pattern)"
   ]
  },
  {
   "cell_type": "code",
   "execution_count": null,
   "metadata": {},
   "outputs": [],
   "source": []
  }
 ],
 "metadata": {
  "kernelspec": {
   "display_name": "keras_env",
   "language": "python",
   "name": "keras_env"
  }
 },
 "nbformat": 4,
 "nbformat_minor": 2
}
